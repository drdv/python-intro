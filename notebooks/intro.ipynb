{
 "cells": [
  {
   "cell_type": "markdown",
   "metadata": {},
   "source": [
    "# Introduction\n",
    "  \n",
    "+ Learning to code requires time. Learning to code well requires a lot of time.\n",
    "\n",
    "+ Ultimately, one has to learn to express abstract concepts in terms of a\n",
    "  fixed set of rules. While this takes some getting used to, it can be a lot of fun.\n",
    "\n",
    "+ A snippet of code can be seen as a summary of an idea. Just like some\n",
    "  summaries are better than others, some snippets of code may be more\n",
    "  readable and easy to use.\n",
    "\n",
    "+ Practice is the key. One cannot simply learn a set of rules and be done.\n",
    "\n",
    "+ Having a concrete problem to solve facilitates the learning process.\n",
    "\n",
    "## The `python` programming language\n",
    "\n",
    "+ `Python` is one of the most popular programming languages. It is easy to\n",
    "   work with, has a very active community and a great \"ecosystem\".\n",
    "\n",
    "+ The ecosystem of a language is as important as the language itself. It\n",
    "  provides a way to validate, document, package, distribute, organize, share,\n",
    "  install code.\n",
    "\n",
    "+ A `python` version greater than `3.10` is considered to be \"modern\".\n",
    "\n",
    "## How to use\n",
    "  \n",
    "+ There are many ways to write and execute `python` code. This material is\n",
    "  organized in a \"jupyter notebook\". Each code cell can be executed by\n",
    "  selecting it and using `CTRL + ENTER`.\n",
    "    \n",
    "+ The following is a short introduction to basic concepts in the `python`\n",
    "  programming language: more details will follow."
   ]
  },
  {
   "cell_type": "code",
   "execution_count": null,
   "metadata": {},
   "outputs": [],
   "source": [
    "# This is the first code cell of the notebook (and this line is a comment)\n",
    "\n",
    "# `print` is a function\n",
    "print('Hello World!')"
   ]
  },
  {
   "cell_type": "markdown",
   "metadata": {},
   "source": [
    "### Getting help for an object (a function, a variable, etc.)"
   ]
  },
  {
   "cell_type": "code",
   "execution_count": null,
   "metadata": {},
   "outputs": [],
   "source": [
    "print?"
   ]
  },
  {
   "cell_type": "markdown",
   "metadata": {},
   "source": [
    "### Variables\n",
    "  + Variables help us keep track of objects that are reused in our program.\n",
    "  + You can think of a variable as an alias for a memory location where an object is stored.\n",
    "  + Unline languages like `C++`, the \"type\" of a variable need not be specified in `python`"
   ]
  },
  {
   "cell_type": "code",
   "execution_count": null,
   "metadata": {},
   "outputs": [],
   "source": [
    "# Define a variable with name `name` and value `'Mitko'` (a string)\n",
    "# What is happening:\n",
    "#  - the string literal 'Mitko' is stored in memory\n",
    "#  - the variable `name` is set to point to the address where 'Mitko' is stored\n",
    "name = 'Boyko' \n",
    "\n",
    "# define another variable with name `age` and value 49 (an integer)\n",
    "age = 9"
   ]
  },
  {
   "cell_type": "markdown",
   "metadata": {},
   "source": [
    "### Let's inspect our variables"
   ]
  },
  {
   "cell_type": "code",
   "execution_count": null,
   "metadata": {},
   "outputs": [],
   "source": [
    "print(name, age)\n",
    "\n",
    "# or we could be more descriptive\n",
    "print('name: ' + name + ', age: ' + str(age))  # str(age) converts the integer 43 to a string\n",
    "\n",
    "# or\n",
    "print('name: {}, age: {}'.format(name, age))\n",
    "\n",
    "# or\n",
    "print(f'name: {name}, age: {age}')\n",
    "\n",
    "# there are many ways to do string formatting in python ..."
   ]
  },
  {
   "cell_type": "markdown",
   "metadata": {},
   "source": [
    "### Some notes"
   ]
  },
  {
   "cell_type": "code",
   "execution_count": null,
   "metadata": {},
   "outputs": [],
   "source": [
    "# the `+` operator can mean different things depending on its operands\n",
    "new_age = age + 1\n",
    "print(f'Next year {name} will be {new_age} years old')\n",
    "\n",
    "# when the `+` operator operates on strings it concatenates them\n",
    "print(name + ' is my name')"
   ]
  },
  {
   "cell_type": "code",
   "execution_count": null,
   "metadata": {},
   "outputs": [],
   "source": [
    "# the `*` operator can mean different things depending on its operands\n",
    "print(3 * 5)\n",
    "print(3 * '5')"
   ]
  },
  {
   "cell_type": "markdown",
   "metadata": {},
   "source": [
    "### Lists\n",
    "  + A list is a container that can store python objects of different type. "
   ]
  },
  {
   "cell_type": "code",
   "execution_count": null,
   "metadata": {},
   "outputs": [],
   "source": [
    "# the variable `lang` points to a list\n",
    "lang = ['python', 'c++', 'rust', 'lisp']\n",
    "print(lang)\n",
    "\n",
    "# modify the first element of the list\n",
    "lang[0] += ' is nice'\n",
    "print(lang)"
   ]
  },
  {
   "cell_type": "markdown",
   "metadata": {},
   "source": [
    "### Another way to get help\n",
    "  + **Note**: the `?` syntax might not be available in some python environments (but `help` is universally supported)."
   ]
  },
  {
   "cell_type": "code",
   "execution_count": null,
   "metadata": {},
   "outputs": [],
   "source": [
    "help('+=')"
   ]
  },
  {
   "cell_type": "markdown",
   "metadata": {},
   "source": [
    "### A list can contain elements of different types"
   ]
  },
  {
   "cell_type": "code",
   "execution_count": null,
   "metadata": {},
   "outputs": [],
   "source": [
    "stuff = [lang, print, 42]\n",
    "\n",
    "print(stuff)"
   ]
  },
  {
   "cell_type": "markdown",
   "metadata": {},
   "source": [
    "### Elements could be added to the list\n",
    "  + Note: in juputer notebook, the output of the last statement in a code cell is displayed (without using `print`)"
   ]
  },
  {
   "cell_type": "code",
   "execution_count": null,
   "metadata": {},
   "outputs": [],
   "source": [
    "stuff.append('a new element')\n",
    "stuff"
   ]
  },
  {
   "cell_type": "markdown",
   "metadata": {},
   "source": [
    "### We can examine the type of a variable/object"
   ]
  },
  {
   "cell_type": "code",
   "execution_count": null,
   "metadata": {},
   "outputs": [],
   "source": [
    "print(type(stuff))\n",
    "print(type(stuff[0]))\n",
    "print(type(stuff[1]))\n",
    "print(type(stuff[2]))\n",
    "print(type(stuff[3]))"
   ]
  },
  {
   "cell_type": "markdown",
   "metadata": {},
   "source": [
    "### `for` loop\n",
    "  + In `python` indentation matters"
   ]
  },
  {
   "cell_type": "code",
   "execution_count": null,
   "metadata": {},
   "outputs": [],
   "source": [
    "# here the variable `element` is assigned the value of each list element in turn\n",
    "for element in stuff:\n",
    "    print(type(element))"
   ]
  },
  {
   "cell_type": "markdown",
   "metadata": {},
   "source": [
    "### Using a `for` loop to form a list\n",
    "  + **Note**: we will learn better ways to do this later"
   ]
  },
  {
   "cell_type": "code",
   "execution_count": null,
   "metadata": {},
   "outputs": [],
   "source": [
    "my_list = []  # define an empty list\n",
    "for k in range(5):  # equivalent to `for k in [0, 1, 2, 3, 4]`\n",
    "    my_list.append(k)\n",
    "    \n",
    "print(my_list)"
   ]
  },
  {
   "cell_type": "markdown",
   "metadata": {},
   "source": [
    "### The `+` operator concatenates lists"
   ]
  },
  {
   "cell_type": "code",
   "execution_count": null,
   "metadata": {},
   "outputs": [],
   "source": [
    "my_list + [5, 6]"
   ]
  },
  {
   "cell_type": "markdown",
   "metadata": {},
   "source": [
    "### `if`-`then`-`else`"
   ]
  },
  {
   "cell_type": "code",
   "execution_count": null,
   "metadata": {},
   "outputs": [],
   "source": [
    "var = 4\n",
    "if var > 5:\n",
    "    print('case 1')\n",
    "elif var == 5:\n",
    "    print('case 2')\n",
    "else:\n",
    "    print('case 3')    "
   ]
  },
  {
   "cell_type": "markdown",
   "metadata": {},
   "source": [
    "### Functions\n",
    "  + `print` is a built-in function (there are many others)\n",
    "  + custom functions can be defined easily"
   ]
  },
  {
   "cell_type": "code",
   "execution_count": null,
   "metadata": {},
   "outputs": [],
   "source": [
    "# define a function named `f` with arguments `a` and `b`\n",
    "def f(a, b):\n",
    "    print(f'a: {a}, b: {b}')\n",
    "    return a + b\n",
    "\n",
    "# another function \n",
    "def show(a_list):\n",
    "    \"\"\"This docstring provides a description.\"\"\"\n",
    "    for element in a_list:\n",
    "        print(element)"
   ]
  },
  {
   "cell_type": "markdown",
   "metadata": {},
   "source": [
    "### Execute a function"
   ]
  },
  {
   "cell_type": "code",
   "execution_count": null,
   "metadata": {},
   "outputs": [],
   "source": [
    "f(1, 2)"
   ]
  },
  {
   "cell_type": "code",
   "execution_count": null,
   "metadata": {},
   "outputs": [],
   "source": [
    "show(stuff)"
   ]
  },
  {
   "cell_type": "markdown",
   "metadata": {},
   "source": [
    "### Nested `for` loops"
   ]
  },
  {
   "cell_type": "code",
   "execution_count": null,
   "metadata": {},
   "outputs": [],
   "source": [
    "# find out what is the default value of the argument `end` of the function `print`\n",
    "for i in range(5):\n",
    "    for j in range(3):\n",
    "        print(f'{j} ', end='')\n",
    "    print()"
   ]
  },
  {
   "cell_type": "markdown",
   "metadata": {},
   "source": [
    "### Exercises\n",
    "\n",
    " 1. Define a function that prints the following pattern. Try to solve the problem in two different ways (using a single for loop and two nested for loops).\n",
    "    ```\n",
    "    * \n",
    "    * * \n",
    "    * * * \n",
    "    * * * *\n",
    "    ```\n",
    "    \n",
    " 2. Write a function that prints a pattern similar to the one in problem (1) but for a user-specified number of rows"
   ]
  },
  {
   "cell_type": "code",
   "execution_count": null,
   "metadata": {},
   "outputs": [],
   "source": [
    "# your solution ..."
   ]
  }
 ],
 "metadata": {
  "kernelspec": {
   "display_name": "Python 3 (ipykernel)",
   "language": "python",
   "name": "python3"
  },
  "language_info": {
   "codemirror_mode": {
    "name": "ipython",
    "version": 3
   },
   "file_extension": ".py",
   "mimetype": "text/x-python",
   "name": "python",
   "nbconvert_exporter": "python",
   "pygments_lexer": "ipython3",
   "version": "3.11.4"
  }
 },
 "nbformat": 4,
 "nbformat_minor": 4
}
